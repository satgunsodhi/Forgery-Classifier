{
 "cells": [
  {
   "cell_type": "code",
   "execution_count": 1,
   "metadata": {},
   "outputs": [
    {
     "name": "stdout",
     "output_type": "stream",
     "text": [
      "Requirement already satisfied: tensorflow in c:\\users\\satgu\\documents\\vs code\\2nd year\\forgery classifier\\lib\\site-packages (2.18.0)\n",
      "Requirement already satisfied: opencv-python in c:\\users\\satgu\\documents\\vs code\\2nd year\\forgery classifier\\lib\\site-packages (4.11.0.86)\n",
      "Requirement already satisfied: matplotlib in c:\\users\\satgu\\documents\\vs code\\2nd year\\forgery classifier\\lib\\site-packages (3.10.1)\n",
      "Requirement already satisfied: kagglehub in c:\\users\\satgu\\documents\\vs code\\2nd year\\forgery classifier\\lib\\site-packages (0.3.10)\n",
      "Requirement already satisfied: tensorflow-intel==2.18.0 in c:\\users\\satgu\\documents\\vs code\\2nd year\\forgery classifier\\lib\\site-packages (from tensorflow) (2.18.0)\n",
      "Requirement already satisfied: absl-py>=1.0.0 in c:\\users\\satgu\\documents\\vs code\\2nd year\\forgery classifier\\lib\\site-packages (from tensorflow-intel==2.18.0->tensorflow) (2.1.0)\n",
      "Requirement already satisfied: astunparse>=1.6.0 in c:\\users\\satgu\\documents\\vs code\\2nd year\\forgery classifier\\lib\\site-packages (from tensorflow-intel==2.18.0->tensorflow) (1.6.3)\n",
      "Requirement already satisfied: flatbuffers>=24.3.25 in c:\\users\\satgu\\documents\\vs code\\2nd year\\forgery classifier\\lib\\site-packages (from tensorflow-intel==2.18.0->tensorflow) (25.2.10)\n",
      "Requirement already satisfied: gast!=0.5.0,!=0.5.1,!=0.5.2,>=0.2.1 in c:\\users\\satgu\\documents\\vs code\\2nd year\\forgery classifier\\lib\\site-packages (from tensorflow-intel==2.18.0->tensorflow) (0.6.0)\n",
      "Requirement already satisfied: google-pasta>=0.1.1 in c:\\users\\satgu\\documents\\vs code\\2nd year\\forgery classifier\\lib\\site-packages (from tensorflow-intel==2.18.0->tensorflow) (0.2.0)\n",
      "Requirement already satisfied: libclang>=13.0.0 in c:\\users\\satgu\\documents\\vs code\\2nd year\\forgery classifier\\lib\\site-packages (from tensorflow-intel==2.18.0->tensorflow) (18.1.1)\n",
      "Requirement already satisfied: opt-einsum>=2.3.2 in c:\\users\\satgu\\documents\\vs code\\2nd year\\forgery classifier\\lib\\site-packages (from tensorflow-intel==2.18.0->tensorflow) (3.4.0)\n",
      "Requirement already satisfied: packaging in c:\\users\\satgu\\documents\\vs code\\2nd year\\forgery classifier\\lib\\site-packages (from tensorflow-intel==2.18.0->tensorflow) (24.2)\n",
      "Requirement already satisfied: protobuf!=4.21.0,!=4.21.1,!=4.21.2,!=4.21.3,!=4.21.4,!=4.21.5,<6.0.0dev,>=3.20.3 in c:\\users\\satgu\\documents\\vs code\\2nd year\\forgery classifier\\lib\\site-packages (from tensorflow-intel==2.18.0->tensorflow) (5.29.3)\n",
      "Requirement already satisfied: requests<3,>=2.21.0 in c:\\users\\satgu\\documents\\vs code\\2nd year\\forgery classifier\\lib\\site-packages (from tensorflow-intel==2.18.0->tensorflow) (2.32.3)\n",
      "Requirement already satisfied: setuptools in c:\\users\\satgu\\documents\\vs code\\2nd year\\forgery classifier\\lib\\site-packages (from tensorflow-intel==2.18.0->tensorflow) (75.8.2)\n",
      "Requirement already satisfied: six>=1.12.0 in c:\\users\\satgu\\documents\\vs code\\2nd year\\forgery classifier\\lib\\site-packages (from tensorflow-intel==2.18.0->tensorflow) (1.17.0)\n",
      "Requirement already satisfied: termcolor>=1.1.0 in c:\\users\\satgu\\documents\\vs code\\2nd year\\forgery classifier\\lib\\site-packages (from tensorflow-intel==2.18.0->tensorflow) (2.5.0)\n",
      "Requirement already satisfied: typing-extensions>=3.6.6 in c:\\users\\satgu\\documents\\vs code\\2nd year\\forgery classifier\\lib\\site-packages (from tensorflow-intel==2.18.0->tensorflow) (4.12.2)\n",
      "Requirement already satisfied: wrapt>=1.11.0 in c:\\users\\satgu\\documents\\vs code\\2nd year\\forgery classifier\\lib\\site-packages (from tensorflow-intel==2.18.0->tensorflow) (1.17.2)\n",
      "Requirement already satisfied: grpcio<2.0,>=1.24.3 in c:\\users\\satgu\\documents\\vs code\\2nd year\\forgery classifier\\lib\\site-packages (from tensorflow-intel==2.18.0->tensorflow) (1.70.0)\n",
      "Requirement already satisfied: tensorboard<2.19,>=2.18 in c:\\users\\satgu\\documents\\vs code\\2nd year\\forgery classifier\\lib\\site-packages (from tensorflow-intel==2.18.0->tensorflow) (2.18.0)\n",
      "Requirement already satisfied: keras>=3.5.0 in c:\\users\\satgu\\documents\\vs code\\2nd year\\forgery classifier\\lib\\site-packages (from tensorflow-intel==2.18.0->tensorflow) (3.8.0)\n",
      "Requirement already satisfied: numpy<2.1.0,>=1.26.0 in c:\\users\\satgu\\documents\\vs code\\2nd year\\forgery classifier\\lib\\site-packages (from tensorflow-intel==2.18.0->tensorflow) (2.0.2)\n",
      "Requirement already satisfied: h5py>=3.11.0 in c:\\users\\satgu\\documents\\vs code\\2nd year\\forgery classifier\\lib\\site-packages (from tensorflow-intel==2.18.0->tensorflow) (3.13.0)\n",
      "Requirement already satisfied: ml-dtypes<0.5.0,>=0.4.0 in c:\\users\\satgu\\documents\\vs code\\2nd year\\forgery classifier\\lib\\site-packages (from tensorflow-intel==2.18.0->tensorflow) (0.4.1)\n",
      "Requirement already satisfied: contourpy>=1.0.1 in c:\\users\\satgu\\documents\\vs code\\2nd year\\forgery classifier\\lib\\site-packages (from matplotlib) (1.3.1)\n",
      "Requirement already satisfied: cycler>=0.10 in c:\\users\\satgu\\documents\\vs code\\2nd year\\forgery classifier\\lib\\site-packages (from matplotlib) (0.12.1)\n",
      "Requirement already satisfied: fonttools>=4.22.0 in c:\\users\\satgu\\documents\\vs code\\2nd year\\forgery classifier\\lib\\site-packages (from matplotlib) (4.56.0)\n",
      "Requirement already satisfied: kiwisolver>=1.3.1 in c:\\users\\satgu\\documents\\vs code\\2nd year\\forgery classifier\\lib\\site-packages (from matplotlib) (1.4.8)\n",
      "Requirement already satisfied: pillow>=8 in c:\\users\\satgu\\documents\\vs code\\2nd year\\forgery classifier\\lib\\site-packages (from matplotlib) (11.1.0)\n",
      "Requirement already satisfied: pyparsing>=2.3.1 in c:\\users\\satgu\\documents\\vs code\\2nd year\\forgery classifier\\lib\\site-packages (from matplotlib) (3.2.1)\n",
      "Requirement already satisfied: python-dateutil>=2.7 in c:\\users\\satgu\\documents\\vs code\\2nd year\\forgery classifier\\lib\\site-packages (from matplotlib) (2.9.0.post0)\n",
      "Requirement already satisfied: pyyaml in c:\\users\\satgu\\documents\\vs code\\2nd year\\forgery classifier\\lib\\site-packages (from kagglehub) (6.0.2)\n",
      "Requirement already satisfied: tqdm in c:\\users\\satgu\\documents\\vs code\\2nd year\\forgery classifier\\lib\\site-packages (from kagglehub) (4.67.1)\n",
      "Requirement already satisfied: charset-normalizer<4,>=2 in c:\\users\\satgu\\documents\\vs code\\2nd year\\forgery classifier\\lib\\site-packages (from requests<3,>=2.21.0->tensorflow-intel==2.18.0->tensorflow) (3.4.1)\n",
      "Requirement already satisfied: idna<4,>=2.5 in c:\\users\\satgu\\documents\\vs code\\2nd year\\forgery classifier\\lib\\site-packages (from requests<3,>=2.21.0->tensorflow-intel==2.18.0->tensorflow) (3.10)\n",
      "Requirement already satisfied: urllib3<3,>=1.21.1 in c:\\users\\satgu\\documents\\vs code\\2nd year\\forgery classifier\\lib\\site-packages (from requests<3,>=2.21.0->tensorflow-intel==2.18.0->tensorflow) (2.3.0)\n",
      "Requirement already satisfied: certifi>=2017.4.17 in c:\\users\\satgu\\documents\\vs code\\2nd year\\forgery classifier\\lib\\site-packages (from requests<3,>=2.21.0->tensorflow-intel==2.18.0->tensorflow) (2025.1.31)\n",
      "Requirement already satisfied: colorama in c:\\users\\satgu\\documents\\vs code\\2nd year\\forgery classifier\\lib\\site-packages (from tqdm->kagglehub) (0.4.6)\n",
      "Requirement already satisfied: wheel<1.0,>=0.23.0 in c:\\users\\satgu\\documents\\vs code\\2nd year\\forgery classifier\\lib\\site-packages (from astunparse>=1.6.0->tensorflow-intel==2.18.0->tensorflow) (0.45.1)\n",
      "Requirement already satisfied: rich in c:\\users\\satgu\\documents\\vs code\\2nd year\\forgery classifier\\lib\\site-packages (from keras>=3.5.0->tensorflow-intel==2.18.0->tensorflow) (13.9.4)\n",
      "Requirement already satisfied: namex in c:\\users\\satgu\\documents\\vs code\\2nd year\\forgery classifier\\lib\\site-packages (from keras>=3.5.0->tensorflow-intel==2.18.0->tensorflow) (0.0.8)\n",
      "Requirement already satisfied: optree in c:\\users\\satgu\\documents\\vs code\\2nd year\\forgery classifier\\lib\\site-packages (from keras>=3.5.0->tensorflow-intel==2.18.0->tensorflow) (0.14.1)\n",
      "Requirement already satisfied: markdown>=2.6.8 in c:\\users\\satgu\\documents\\vs code\\2nd year\\forgery classifier\\lib\\site-packages (from tensorboard<2.19,>=2.18->tensorflow-intel==2.18.0->tensorflow) (3.7)\n",
      "Requirement already satisfied: tensorboard-data-server<0.8.0,>=0.7.0 in c:\\users\\satgu\\documents\\vs code\\2nd year\\forgery classifier\\lib\\site-packages (from tensorboard<2.19,>=2.18->tensorflow-intel==2.18.0->tensorflow) (0.7.2)\n",
      "Requirement already satisfied: werkzeug>=1.0.1 in c:\\users\\satgu\\documents\\vs code\\2nd year\\forgery classifier\\lib\\site-packages (from tensorboard<2.19,>=2.18->tensorflow-intel==2.18.0->tensorflow) (3.1.3)\n",
      "Requirement already satisfied: MarkupSafe>=2.1.1 in c:\\users\\satgu\\documents\\vs code\\2nd year\\forgery classifier\\lib\\site-packages (from werkzeug>=1.0.1->tensorboard<2.19,>=2.18->tensorflow-intel==2.18.0->tensorflow) (3.0.2)\n",
      "Requirement already satisfied: markdown-it-py>=2.2.0 in c:\\users\\satgu\\documents\\vs code\\2nd year\\forgery classifier\\lib\\site-packages (from rich->keras>=3.5.0->tensorflow-intel==2.18.0->tensorflow) (3.0.0)\n",
      "Requirement already satisfied: pygments<3.0.0,>=2.13.0 in c:\\users\\satgu\\documents\\vs code\\2nd year\\forgery classifier\\lib\\site-packages (from rich->keras>=3.5.0->tensorflow-intel==2.18.0->tensorflow) (2.19.1)\n",
      "Requirement already satisfied: mdurl~=0.1 in c:\\users\\satgu\\documents\\vs code\\2nd year\\forgery classifier\\lib\\site-packages (from markdown-it-py>=2.2.0->rich->keras>=3.5.0->tensorflow-intel==2.18.0->tensorflow) (0.1.2)\n",
      "Note: you may need to restart the kernel to use updated packages.\n"
     ]
    },
    {
     "name": "stderr",
     "output_type": "stream",
     "text": [
      "\n",
      "[notice] A new release of pip is available: 24.3.1 -> 25.0.1\n",
      "[notice] To update, run: python.exe -m pip install --upgrade pip\n"
     ]
    }
   ],
   "source": [
    "%pip install tensorflow opencv-python matplotlib kagglehub pandas tensorflow_hub"
   ]
  },
  {
   "cell_type": "code",
   "execution_count": 2,
   "metadata": {},
   "outputs": [
    {
     "name": "stdout",
     "output_type": "stream",
     "text": [
      "Path to dataset files: C:\\Users\\Satgu\\.cache\\kagglehub\\datasets\\shreelakshmigp\\cedardataset\\versions\\1\n"
     ]
    }
   ],
   "source": [
    "import kagglehub\n",
    "\n",
    "# Download latest version\n",
    "path = kagglehub.dataset_download(\"shreelakshmigp/cedardataset\")\n",
    "\n",
    "print(\"Path to dataset files:\", path)"
   ]
  },
  {
   "cell_type": "code",
   "execution_count": null,
   "metadata": {},
   "outputs": [],
   "source": [
    "import cv2\n",
    "import os\n",
    "import numpy as np\n",
    "import tensorflow as tf\n",
    "import matplotlib.pyplot as plt\n",
    "import pandas as pd\n",
    "import tensorflow_hub as hub"
   ]
  },
  {
   "cell_type": "markdown",
   "metadata": {},
   "source": [
    "Load Data"
   ]
  },
  {
   "cell_type": "code",
   "execution_count": 4,
   "metadata": {},
   "outputs": [
    {
     "name": "stdout",
     "output_type": "stream",
     "text": [
      "Found 2640 files belonging to 2 classes.\n"
     ]
    }
   ],
   "source": [
    "data = tf.keras.utils.image_dataset_from_directory(os.path.join(path, \"signatures\"), batch_size=128)"
   ]
  },
  {
   "cell_type": "markdown",
   "metadata": {},
   "source": [
    "Pre Processing"
   ]
  },
  {
   "cell_type": "code",
   "execution_count": 5,
   "metadata": {},
   "outputs": [],
   "source": [
    "data = data.map(lambda x,y: (x/255, y))"
   ]
  },
  {
   "cell_type": "code",
   "execution_count": 6,
   "metadata": {},
   "outputs": [],
   "source": [
    "scaled_iterator = data.as_numpy_iterator()"
   ]
  },
  {
   "cell_type": "code",
   "execution_count": 7,
   "metadata": {},
   "outputs": [],
   "source": [
    "batch = scaled_iterator.next()"
   ]
  },
  {
   "cell_type": "code",
   "execution_count": 8,
   "metadata": {},
   "outputs": [
    {
     "data": {
      "text/plain": [
       "np.int32(1)"
      ]
     },
     "execution_count": 8,
     "metadata": {},
     "output_type": "execute_result"
    }
   ],
   "source": [
    "batch[1].max()"
   ]
  },
  {
   "cell_type": "code",
   "execution_count": 79,
   "metadata": {},
   "outputs": [
    {
     "ename": "TypeError",
     "evalue": "Invalid shape (3,) for image data",
     "output_type": "error",
     "traceback": [
      "\u001b[31m---------------------------------------------------------------------------\u001b[39m",
      "\u001b[31mTypeError\u001b[39m                                 Traceback (most recent call last)",
      "\u001b[36mCell\u001b[39m\u001b[36m \u001b[39m\u001b[32mIn[79]\u001b[39m\u001b[32m, line 3\u001b[39m\n\u001b[32m      1\u001b[39m fig, ax = plt.subplots(ncols = \u001b[32m4\u001b[39m, figsize = (\u001b[32m20\u001b[39m,\u001b[32m20\u001b[39m))\n\u001b[32m      2\u001b[39m \u001b[38;5;28;01mfor\u001b[39;00m idx, img \u001b[38;5;129;01min\u001b[39;00m \u001b[38;5;28menumerate\u001b[39m(batch[\u001b[32m0\u001b[39m][:\u001b[32m4\u001b[39m]):\n\u001b[32m----> \u001b[39m\u001b[32m3\u001b[39m     \u001b[43max\u001b[49m\u001b[43m[\u001b[49m\u001b[43midx\u001b[49m\u001b[43m]\u001b[49m\u001b[43m.\u001b[49m\u001b[43mimshow\u001b[49m\u001b[43m(\u001b[49m\u001b[43mimg\u001b[49m\u001b[43m)\u001b[49m\n\u001b[32m      4\u001b[39m     ax[idx].title.set_text(batch[\u001b[32m1\u001b[39m][idx])\n\u001b[32m      5\u001b[39m     \u001b[38;5;28mprint\u001b[39m(batch.shape)\n",
      "\u001b[36mFile \u001b[39m\u001b[32mc:\\Users\\Satgu\\Documents\\VS Code\\2nd year\\Forgery Classifier\\Lib\\site-packages\\matplotlib\\__init__.py:1521\u001b[39m, in \u001b[36m_preprocess_data.<locals>.inner\u001b[39m\u001b[34m(ax, data, *args, **kwargs)\u001b[39m\n\u001b[32m   1518\u001b[39m \u001b[38;5;129m@functools\u001b[39m.wraps(func)\n\u001b[32m   1519\u001b[39m \u001b[38;5;28;01mdef\u001b[39;00m\u001b[38;5;250m \u001b[39m\u001b[34minner\u001b[39m(ax, *args, data=\u001b[38;5;28;01mNone\u001b[39;00m, **kwargs):\n\u001b[32m   1520\u001b[39m     \u001b[38;5;28;01mif\u001b[39;00m data \u001b[38;5;129;01mis\u001b[39;00m \u001b[38;5;28;01mNone\u001b[39;00m:\n\u001b[32m-> \u001b[39m\u001b[32m1521\u001b[39m         \u001b[38;5;28;01mreturn\u001b[39;00m \u001b[43mfunc\u001b[49m\u001b[43m(\u001b[49m\n\u001b[32m   1522\u001b[39m \u001b[43m            \u001b[49m\u001b[43max\u001b[49m\u001b[43m,\u001b[49m\n\u001b[32m   1523\u001b[39m \u001b[43m            \u001b[49m\u001b[43m*\u001b[49m\u001b[38;5;28;43mmap\u001b[39;49m\u001b[43m(\u001b[49m\u001b[43mcbook\u001b[49m\u001b[43m.\u001b[49m\u001b[43msanitize_sequence\u001b[49m\u001b[43m,\u001b[49m\u001b[43m \u001b[49m\u001b[43margs\u001b[49m\u001b[43m)\u001b[49m\u001b[43m,\u001b[49m\n\u001b[32m   1524\u001b[39m \u001b[43m            \u001b[49m\u001b[43m*\u001b[49m\u001b[43m*\u001b[49m\u001b[43m{\u001b[49m\u001b[43mk\u001b[49m\u001b[43m:\u001b[49m\u001b[43m \u001b[49m\u001b[43mcbook\u001b[49m\u001b[43m.\u001b[49m\u001b[43msanitize_sequence\u001b[49m\u001b[43m(\u001b[49m\u001b[43mv\u001b[49m\u001b[43m)\u001b[49m\u001b[43m \u001b[49m\u001b[38;5;28;43;01mfor\u001b[39;49;00m\u001b[43m \u001b[49m\u001b[43mk\u001b[49m\u001b[43m,\u001b[49m\u001b[43m \u001b[49m\u001b[43mv\u001b[49m\u001b[43m \u001b[49m\u001b[38;5;129;43;01min\u001b[39;49;00m\u001b[43m \u001b[49m\u001b[43mkwargs\u001b[49m\u001b[43m.\u001b[49m\u001b[43mitems\u001b[49m\u001b[43m(\u001b[49m\u001b[43m)\u001b[49m\u001b[43m}\u001b[49m\u001b[43m)\u001b[49m\n\u001b[32m   1526\u001b[39m     bound = new_sig.bind(ax, *args, **kwargs)\n\u001b[32m   1527\u001b[39m     auto_label = (bound.arguments.get(label_namer)\n\u001b[32m   1528\u001b[39m                   \u001b[38;5;129;01mor\u001b[39;00m bound.kwargs.get(label_namer))\n",
      "\u001b[36mFile \u001b[39m\u001b[32mc:\\Users\\Satgu\\Documents\\VS Code\\2nd year\\Forgery Classifier\\Lib\\site-packages\\matplotlib\\axes\\_axes.py:5976\u001b[39m, in \u001b[36mAxes.imshow\u001b[39m\u001b[34m(self, X, cmap, norm, aspect, interpolation, alpha, vmin, vmax, colorizer, origin, extent, interpolation_stage, filternorm, filterrad, resample, url, **kwargs)\u001b[39m\n\u001b[32m   5973\u001b[39m \u001b[38;5;28;01mif\u001b[39;00m aspect \u001b[38;5;129;01mis\u001b[39;00m \u001b[38;5;129;01mnot\u001b[39;00m \u001b[38;5;28;01mNone\u001b[39;00m:\n\u001b[32m   5974\u001b[39m     \u001b[38;5;28mself\u001b[39m.set_aspect(aspect)\n\u001b[32m-> \u001b[39m\u001b[32m5976\u001b[39m \u001b[43mim\u001b[49m\u001b[43m.\u001b[49m\u001b[43mset_data\u001b[49m\u001b[43m(\u001b[49m\u001b[43mX\u001b[49m\u001b[43m)\u001b[49m\n\u001b[32m   5977\u001b[39m im.set_alpha(alpha)\n\u001b[32m   5978\u001b[39m \u001b[38;5;28;01mif\u001b[39;00m im.get_clip_path() \u001b[38;5;129;01mis\u001b[39;00m \u001b[38;5;28;01mNone\u001b[39;00m:\n\u001b[32m   5979\u001b[39m     \u001b[38;5;66;03m# image does not already have clipping set, clip to Axes patch\u001b[39;00m\n",
      "\u001b[36mFile \u001b[39m\u001b[32mc:\\Users\\Satgu\\Documents\\VS Code\\2nd year\\Forgery Classifier\\Lib\\site-packages\\matplotlib\\image.py:685\u001b[39m, in \u001b[36m_ImageBase.set_data\u001b[39m\u001b[34m(self, A)\u001b[39m\n\u001b[32m    683\u001b[39m \u001b[38;5;28;01mif\u001b[39;00m \u001b[38;5;28misinstance\u001b[39m(A, PIL.Image.Image):\n\u001b[32m    684\u001b[39m     A = pil_to_array(A)  \u001b[38;5;66;03m# Needed e.g. to apply png palette.\u001b[39;00m\n\u001b[32m--> \u001b[39m\u001b[32m685\u001b[39m \u001b[38;5;28mself\u001b[39m._A = \u001b[38;5;28;43mself\u001b[39;49m\u001b[43m.\u001b[49m\u001b[43m_normalize_image_array\u001b[49m\u001b[43m(\u001b[49m\u001b[43mA\u001b[49m\u001b[43m)\u001b[49m\n\u001b[32m    686\u001b[39m \u001b[38;5;28mself\u001b[39m._imcache = \u001b[38;5;28;01mNone\u001b[39;00m\n\u001b[32m    687\u001b[39m \u001b[38;5;28mself\u001b[39m.stale = \u001b[38;5;28;01mTrue\u001b[39;00m\n",
      "\u001b[36mFile \u001b[39m\u001b[32mc:\\Users\\Satgu\\Documents\\VS Code\\2nd year\\Forgery Classifier\\Lib\\site-packages\\matplotlib\\image.py:653\u001b[39m, in \u001b[36m_ImageBase._normalize_image_array\u001b[39m\u001b[34m(A)\u001b[39m\n\u001b[32m    651\u001b[39m     A = A.squeeze(-\u001b[32m1\u001b[39m)  \u001b[38;5;66;03m# If just (M, N, 1), assume scalar and apply colormap.\u001b[39;00m\n\u001b[32m    652\u001b[39m \u001b[38;5;28;01mif\u001b[39;00m \u001b[38;5;129;01mnot\u001b[39;00m (A.ndim == \u001b[32m2\u001b[39m \u001b[38;5;129;01mor\u001b[39;00m A.ndim == \u001b[32m3\u001b[39m \u001b[38;5;129;01mand\u001b[39;00m A.shape[-\u001b[32m1\u001b[39m] \u001b[38;5;129;01min\u001b[39;00m [\u001b[32m3\u001b[39m, \u001b[32m4\u001b[39m]):\n\u001b[32m--> \u001b[39m\u001b[32m653\u001b[39m     \u001b[38;5;28;01mraise\u001b[39;00m \u001b[38;5;167;01mTypeError\u001b[39;00m(\u001b[33mf\u001b[39m\u001b[33m\"\u001b[39m\u001b[33mInvalid shape \u001b[39m\u001b[38;5;132;01m{\u001b[39;00mA.shape\u001b[38;5;132;01m}\u001b[39;00m\u001b[33m for image data\u001b[39m\u001b[33m\"\u001b[39m)\n\u001b[32m    654\u001b[39m \u001b[38;5;28;01mif\u001b[39;00m A.ndim == \u001b[32m3\u001b[39m:\n\u001b[32m    655\u001b[39m     \u001b[38;5;66;03m# If the input data has values outside the valid range (after\u001b[39;00m\n\u001b[32m    656\u001b[39m     \u001b[38;5;66;03m# normalisation), we issue a warning and then clip X to the bounds\u001b[39;00m\n\u001b[32m    657\u001b[39m     \u001b[38;5;66;03m# - otherwise casting wraps extreme values, hiding outliers and\u001b[39;00m\n\u001b[32m    658\u001b[39m     \u001b[38;5;66;03m# making reliable interpretation impossible.\u001b[39;00m\n\u001b[32m    659\u001b[39m     high = \u001b[32m255\u001b[39m \u001b[38;5;28;01mif\u001b[39;00m np.issubdtype(A.dtype, np.integer) \u001b[38;5;28;01melse\u001b[39;00m \u001b[32m1\u001b[39m\n",
      "\u001b[31mTypeError\u001b[39m: Invalid shape (3,) for image data"
     ]
    },
    {
     "data": {
      "image/png": "[encoded data removed]",
      "text/plain": [
       "<Figure size 2000x2000 with 4 Axes>"
      ]
     },
     "metadata": {},
     "output_type": "display_data"
    }
   ],
   "source": [
    "fig, ax = plt.subplots(ncols = 4, figsize = (20,20))\n",
    "for idx, img in enumerate(batch[0][:4]):\n",
    "    ax[idx].imshow(img)\n",
    "    ax[idx].title.set_text(batch[1][idx])\n",
    "    print(batch)"
   ]
  },
  {
   "cell_type": "markdown",
   "metadata": {},
   "source": [
    "Test Train Split"
   ]
  },
  {
   "cell_type": "code",
   "execution_count": 10,
   "metadata": {},
   "outputs": [
    {
     "data": {
      "text/plain": [
       "21"
      ]
     },
     "execution_count": 10,
     "metadata": {},
     "output_type": "execute_result"
    }
   ],
   "source": [
    "len(data)"
   ]
  },
  {
   "cell_type": "code",
   "execution_count": 11,
   "metadata": {},
   "outputs": [
    {
     "name": "stdout",
     "output_type": "stream",
     "text": [
      "12 6 3\n"
     ]
    }
   ],
   "source": [
    "train_size = int(0.6*len(data))\n",
    "test_size = int(0.3*len(data))\n",
    "val_size = int(0.1*len(data))+1\n",
    "print(train_size, test_size, val_size)"
   ]
  },
  {
   "cell_type": "code",
   "execution_count": 12,
   "metadata": {},
   "outputs": [],
   "source": [
    "train = data.take(train_size)\n",
    "val = data.skip(train_size).take(val_size)\n",
    "test = data.skip(train_size+val_size).take(test_size)"
   ]
  },
  {
   "cell_type": "markdown",
   "metadata": {},
   "source": [
    "Building the model"
   ]
  },
  {
   "cell_type": "code",
   "execution_count": 13,
   "metadata": {},
   "outputs": [],
   "source": [
    "from tensorflow.keras.models import Sequential\n",
    "from tensorflow.keras.layers import Conv2D, MaxPooling2D, Dense, Flatten, Dropout"
   ]
  },
  {
   "cell_type": "code",
   "execution_count": 14,
   "metadata": {},
   "outputs": [],
   "source": [
    "model = Sequential()"
   ]
  },
  {
   "cell_type": "code",
   "execution_count": 15,
   "metadata": {},
   "outputs": [
    {
     "name": "stderr",
     "output_type": "stream",
     "text": [
      "c:\\Users\\Satgu\\Documents\\VS Code\\2nd year\\Forgery Classifier\\Lib\\site-packages\\keras\\src\\layers\\convolutional\\base_conv.py:107: UserWarning: Do not pass an `input_shape`/`input_dim` argument to a layer. When using Sequential models, prefer using an `Input(shape)` object as the first layer in the model instead.\n",
      "  super().__init__(activity_regularizer=activity_regularizer, **kwargs)\n"
     ]
    }
   ],
   "source": [
    "model.add(Conv2D(16, (3,3), 1, activation='relu', input_shape=(256, 256, 3)))\n",
    "model.add(MaxPooling2D())\n",
    "\n",
    "model.add(Conv2D(32, (3,3), 1, activation='relu'))\n",
    "model.add(MaxPooling2D())\n",
    "\n",
    "model.add(Conv2D(16, (3,3), 1, activation='relu'))\n",
    "model.add(MaxPooling2D())\n",
    "\n",
    "model.add(Flatten())\n",
    "model.add(Dense(256, activation='relu'))\n",
    "model.add(Dense(1, activation='sigmoid'))"
   ]
  },
  {
   "cell_type": "code",
   "execution_count": 16,
   "metadata": {},
   "outputs": [],
   "source": [
    "model.compile('adam', loss=tf.losses.BinaryCrossentropy(), metrics = ['accuracy'])"
   ]
  },
  {
   "cell_type": "code",
   "execution_count": 17,
   "metadata": {},
   "outputs": [
    {
     "data": {
      "text/html": [
       "<pre style=\"white-space:pre;overflow-x:auto;line-height:normal;font-family:Menlo,'DejaVu Sans Mono',consolas,'Courier New',monospace\"><span style=\"font-weight: bold\">Model: \"sequential\"</span>\n",
       "</pre>\n"
      ],
      "text/plain": [
       "\u001b[1mModel: \"sequential\"\u001b[0m\n"
      ]
     },
     "metadata": {},
     "output_type": "display_data"
    },
    {
     "data": {
      "text/html": [
       "<pre style=\"white-space:pre;overflow-x:auto;line-height:normal;font-family:Menlo,'DejaVu Sans Mono',consolas,'Courier New',monospace\">┏━━━━━━━━━━━━━━━━━━━━━━━━━━━━━━━━━┳━━━━━━━━━━━━━━━━━━━━━━━━┳━━━━━━━━━━━━━━━┓\n",
       "┃<span style=\"font-weight: bold\"> Layer (type)                    </span>┃<span style=\"font-weight: bold\"> Output Shape           </span>┃<span style=\"font-weight: bold\">       Param # </span>┃\n",
       "┡━━━━━━━━━━━━━━━━━━━━━━━━━━━━━━━━━╇━━━━━━━━━━━━━━━━━━━━━━━━╇━━━━━━━━━━━━━━━┩\n",
       "│ conv2d (<span style=\"color: #0087ff; text-decoration-color: #0087ff\">Conv2D</span>)                 │ (<span style=\"color: #00d7ff; text-decoration-color: #00d7ff\">None</span>, <span style=\"color: #00af00; text-decoration-color: #00af00\">254</span>, <span style=\"color: #00af00; text-decoration-color: #00af00\">254</span>, <span style=\"color: #00af00; text-decoration-color: #00af00\">16</span>)   │           <span style=\"color: #00af00; text-decoration-color: #00af00\">448</span> │\n",
       "├─────────────────────────────────┼────────────────────────┼───────────────┤\n",
       "│ max_pooling2d (<span style=\"color: #0087ff; text-decoration-color: #0087ff\">MaxPooling2D</span>)    │ (<span style=\"color: #00d7ff; text-decoration-color: #00d7ff\">None</span>, <span style=\"color: #00af00; text-decoration-color: #00af00\">127</span>, <span style=\"color: #00af00; text-decoration-color: #00af00\">127</span>, <span style=\"color: #00af00; text-decoration-color: #00af00\">16</span>)   │             <span style=\"color: #00af00; text-decoration-color: #00af00\">0</span> │\n",
       "├─────────────────────────────────┼────────────────────────┼───────────────┤\n",
       "│ conv2d_1 (<span style=\"color: #0087ff; text-decoration-color: #0087ff\">Conv2D</span>)               │ (<span style=\"color: #00d7ff; text-decoration-color: #00d7ff\">None</span>, <span style=\"color: #00af00; text-decoration-color: #00af00\">125</span>, <span style=\"color: #00af00; text-decoration-color: #00af00\">125</span>, <span style=\"color: #00af00; text-decoration-color: #00af00\">32</span>)   │         <span style=\"color: #00af00; text-decoration-color: #00af00\">4,640</span> │\n",
       "├─────────────────────────────────┼────────────────────────┼───────────────┤\n",
       "│ max_pooling2d_1 (<span style=\"color: #0087ff; text-decoration-color: #0087ff\">MaxPooling2D</span>)  │ (<span style=\"color: #00d7ff; text-decoration-color: #00d7ff\">None</span>, <span style=\"color: #00af00; text-decoration-color: #00af00\">62</span>, <span style=\"color: #00af00; text-decoration-color: #00af00\">62</span>, <span style=\"color: #00af00; text-decoration-color: #00af00\">32</span>)     │             <span style=\"color: #00af00; text-decoration-color: #00af00\">0</span> │\n",
       "├─────────────────────────────────┼────────────────────────┼───────────────┤\n",
       "│ conv2d_2 (<span style=\"color: #0087ff; text-decoration-color: #0087ff\">Conv2D</span>)               │ (<span style=\"color: #00d7ff; text-decoration-color: #00d7ff\">None</span>, <span style=\"color: #00af00; text-decoration-color: #00af00\">60</span>, <span style=\"color: #00af00; text-decoration-color: #00af00\">60</span>, <span style=\"color: #00af00; text-decoration-color: #00af00\">16</span>)     │         <span style=\"color: #00af00; text-decoration-color: #00af00\">4,624</span> │\n",
       "├─────────────────────────────────┼────────────────────────┼───────────────┤\n",
       "│ max_pooling2d_2 (<span style=\"color: #0087ff; text-decoration-color: #0087ff\">MaxPooling2D</span>)  │ (<span style=\"color: #00d7ff; text-decoration-color: #00d7ff\">None</span>, <span style=\"color: #00af00; text-decoration-color: #00af00\">30</span>, <span style=\"color: #00af00; text-decoration-color: #00af00\">30</span>, <span style=\"color: #00af00; text-decoration-color: #00af00\">16</span>)     │             <span style=\"color: #00af00; text-decoration-color: #00af00\">0</span> │\n",
       "├─────────────────────────────────┼────────────────────────┼───────────────┤\n",
       "│ flatten (<span style=\"color: #0087ff; text-decoration-color: #0087ff\">Flatten</span>)               │ (<span style=\"color: #00d7ff; text-decoration-color: #00d7ff\">None</span>, <span style=\"color: #00af00; text-decoration-color: #00af00\">14400</span>)          │             <span style=\"color: #00af00; text-decoration-color: #00af00\">0</span> │\n",
       "├─────────────────────────────────┼────────────────────────┼───────────────┤\n",
       "│ dense (<span style=\"color: #0087ff; text-decoration-color: #0087ff\">Dense</span>)                   │ (<span style=\"color: #00d7ff; text-decoration-color: #00d7ff\">None</span>, <span style=\"color: #00af00; text-decoration-color: #00af00\">256</span>)            │     <span style=\"color: #00af00; text-decoration-color: #00af00\">3,686,656</span> │\n",
       "├─────────────────────────────────┼────────────────────────┼───────────────┤\n",
       "│ dense_1 (<span style=\"color: #0087ff; text-decoration-color: #0087ff\">Dense</span>)                 │ (<span style=\"color: #00d7ff; text-decoration-color: #00d7ff\">None</span>, <span style=\"color: #00af00; text-decoration-color: #00af00\">1</span>)              │           <span style=\"color: #00af00; text-decoration-color: #00af00\">257</span> │\n",
       "└─────────────────────────────────┴────────────────────────┴───────────────┘\n",
       "</pre>\n"
      ],
      "text/plain": [
       "┏━━━━━━━━━━━━━━━━━━━━━━━━━━━━━━━━━┳━━━━━━━━━━━━━━━━━━━━━━━━┳━━━━━━━━━━━━━━━┓\n",
       "┃\u001b[1m \u001b[0m\u001b[1mLayer (type)                   \u001b[0m\u001b[1m \u001b[0m┃\u001b[1m \u001b[0m\u001b[1mOutput Shape          \u001b[0m\u001b[1m \u001b[0m┃\u001b[1m \u001b[0m\u001b[1m      Param #\u001b[0m\u001b[1m \u001b[0m┃\n",
       "┡━━━━━━━━━━━━━━━━━━━━━━━━━━━━━━━━━╇━━━━━━━━━━━━━━━━━━━━━━━━╇━━━━━━━━━━━━━━━┩\n",
       "│ conv2d (\u001b[38;5;33mConv2D\u001b[0m)                 │ (\u001b[38;5;45mNone\u001b[0m, \u001b[38;5;34m254\u001b[0m, \u001b[38;5;34m254\u001b[0m, \u001b[38;5;34m16\u001b[0m)   │           \u001b[38;5;34m448\u001b[0m │\n",
       "├─────────────────────────────────┼────────────────────────┼───────────────┤\n",
       "│ max_pooling2d (\u001b[38;5;33mMaxPooling2D\u001b[0m)    │ (\u001b[38;5;45mNone\u001b[0m, \u001b[38;5;34m127\u001b[0m, \u001b[38;5;34m127\u001b[0m, \u001b[38;5;34m16\u001b[0m)   │             \u001b[38;5;34m0\u001b[0m │\n",
       "├─────────────────────────────────┼────────────────────────┼───────────────┤\n",
       "│ conv2d_1 (\u001b[38;5;33mConv2D\u001b[0m)               │ (\u001b[38;5;45mNone\u001b[0m, \u001b[38;5;34m125\u001b[0m, \u001b[38;5;34m125\u001b[0m, \u001b[38;5;34m32\u001b[0m)   │         \u001b[38;5;34m4,640\u001b[0m │\n",
       "├─────────────────────────────────┼────────────────────────┼───────────────┤\n",
       "│ max_pooling2d_1 (\u001b[38;5;33mMaxPooling2D\u001b[0m)  │ (\u001b[38;5;45mNone\u001b[0m, \u001b[38;5;34m62\u001b[0m, \u001b[38;5;34m62\u001b[0m, \u001b[38;5;34m32\u001b[0m)     │             \u001b[38;5;34m0\u001b[0m │\n",
       "├─────────────────────────────────┼────────────────────────┼───────────────┤\n",
       "│ conv2d_2 (\u001b[38;5;33mConv2D\u001b[0m)               │ (\u001b[38;5;45mNone\u001b[0m, \u001b[38;5;34m60\u001b[0m, \u001b[38;5;34m60\u001b[0m, \u001b[38;5;34m16\u001b[0m)     │         \u001b[38;5;34m4,624\u001b[0m │\n",
       "├─────────────────────────────────┼────────────────────────┼───────────────┤\n",
       "│ max_pooling2d_2 (\u001b[38;5;33mMaxPooling2D\u001b[0m)  │ (\u001b[38;5;45mNone\u001b[0m, \u001b[38;5;34m30\u001b[0m, \u001b[38;5;34m30\u001b[0m, \u001b[38;5;34m16\u001b[0m)     │             \u001b[38;5;34m0\u001b[0m │\n",
       "├─────────────────────────────────┼────────────────────────┼───────────────┤\n",
       "│ flatten (\u001b[38;5;33mFlatten\u001b[0m)               │ (\u001b[38;5;45mNone\u001b[0m, \u001b[38;5;34m14400\u001b[0m)          │             \u001b[38;5;34m0\u001b[0m │\n",
       "├─────────────────────────────────┼────────────────────────┼───────────────┤\n",
       "│ dense (\u001b[38;5;33mDense\u001b[0m)                   │ (\u001b[38;5;45mNone\u001b[0m, \u001b[38;5;34m256\u001b[0m)            │     \u001b[38;5;34m3,686,656\u001b[0m │\n",
       "├─────────────────────────────────┼────────────────────────┼───────────────┤\n",
       "│ dense_1 (\u001b[38;5;33mDense\u001b[0m)                 │ (\u001b[38;5;45mNone\u001b[0m, \u001b[38;5;34m1\u001b[0m)              │           \u001b[38;5;34m257\u001b[0m │\n",
       "└─────────────────────────────────┴────────────────────────┴───────────────┘\n"
      ]
     },
     "metadata": {},
     "output_type": "display_data"
    },
    {
     "data": {
      "text/html": [
       "<pre style=\"white-space:pre;overflow-x:auto;line-height:normal;font-family:Menlo,'DejaVu Sans Mono',consolas,'Courier New',monospace\"><span style=\"font-weight: bold\"> Total params: </span><span style=\"color: #00af00; text-decoration-color: #00af00\">3,696,625</span> (14.10 MB)\n",
       "</pre>\n"
      ],
      "text/plain": [
       "\u001b[1m Total params: \u001b[0m\u001b[38;5;34m3,696,625\u001b[0m (14.10 MB)\n"
      ]
     },
     "metadata": {},
     "output_type": "display_data"
    },
    {
     "data": {
      "text/html": [
       "<pre style=\"white-space:pre;overflow-x:auto;line-height:normal;font-family:Menlo,'DejaVu Sans Mono',consolas,'Courier New',monospace\"><span style=\"font-weight: bold\"> Trainable params: </span><span style=\"color: #00af00; text-decoration-color: #00af00\">3,696,625</span> (14.10 MB)\n",
       "</pre>\n"
      ],
      "text/plain": [
       "\u001b[1m Trainable params: \u001b[0m\u001b[38;5;34m3,696,625\u001b[0m (14.10 MB)\n"
      ]
     },
     "metadata": {},
     "output_type": "display_data"
    },
    {
     "data": {
      "text/html": [
       "<pre style=\"white-space:pre;overflow-x:auto;line-height:normal;font-family:Menlo,'DejaVu Sans Mono',consolas,'Courier New',monospace\"><span style=\"font-weight: bold\"> Non-trainable params: </span><span style=\"color: #00af00; text-decoration-color: #00af00\">0</span> (0.00 B)\n",
       "</pre>\n"
      ],
      "text/plain": [
       "\u001b[1m Non-trainable params: \u001b[0m\u001b[38;5;34m0\u001b[0m (0.00 B)\n"
      ]
     },
     "metadata": {},
     "output_type": "display_data"
    }
   ],
   "source": [
    "model.summary()"
   ]
  },
  {
   "cell_type": "markdown",
   "metadata": {},
   "source": [
    "Train"
   ]
  },
  {
   "cell_type": "code",
   "execution_count": 18,
   "metadata": {},
   "outputs": [],
   "source": [
    "tensorboard_callback = tf.keras.callbacks.TensorBoard(log_dir='logs')"
   ]
  },
  {
   "cell_type": "code",
   "execution_count": 19,
   "metadata": {},
   "outputs": [
    {
     "name": "stdout",
     "output_type": "stream",
     "text": [
      "Epoch 1/20\n",
      "\u001b[1m12/12\u001b[0m \u001b[32m━━━━━━━━━━━━━━━━━━━━\u001b[0m\u001b[37m\u001b[0m \u001b[1m18s\u001b[0m 1s/step - accuracy: 0.4956 - loss: 1.1661 - val_accuracy: 0.5000 - val_loss: 0.6983\n",
      "Epoch 2/20\n",
      "\u001b[1m12/12\u001b[0m \u001b[32m━━━━━━━━━━━━━━━━━━━━\u001b[0m\u001b[37m\u001b[0m \u001b[1m12s\u001b[0m 995ms/step - accuracy: 0.4754 - loss: 0.6973 - val_accuracy: 0.5286 - val_loss: 0.6902\n",
      "Epoch 3/20\n",
      "\u001b[1m12/12\u001b[0m \u001b[32m━━━━━━━━━━━━━━━━━━━━\u001b[0m\u001b[37m\u001b[0m \u001b[1m13s\u001b[0m 1s/step - accuracy: 0.5760 - loss: 0.6885 - val_accuracy: 0.4609 - val_loss: 0.7192\n",
      "Epoch 4/20\n",
      "\u001b[1m12/12\u001b[0m \u001b[32m━━━━━━━━━━━━━━━━━━━━\u001b[0m\u001b[37m\u001b[0m \u001b[1m12s\u001b[0m 994ms/step - accuracy: 0.5944 - loss: 0.6709 - val_accuracy: 0.6615 - val_loss: 0.6196\n",
      "Epoch 5/20\n",
      "\u001b[1m12/12\u001b[0m \u001b[32m━━━━━━━━━━━━━━━━━━━━\u001b[0m\u001b[37m\u001b[0m \u001b[1m12s\u001b[0m 993ms/step - accuracy: 0.7162 - loss: 0.5757 - val_accuracy: 0.7161 - val_loss: 0.6381\n",
      "Epoch 6/20\n",
      "\u001b[1m12/12\u001b[0m \u001b[32m━━━━━━━━━━━━━━━━━━━━\u001b[0m\u001b[37m\u001b[0m \u001b[1m12s\u001b[0m 1s/step - accuracy: 0.7024 - loss: 0.5864 - val_accuracy: 0.7057 - val_loss: 0.5623\n",
      "Epoch 7/20\n",
      "\u001b[1m12/12\u001b[0m \u001b[32m━━━━━━━━━━━━━━━━━━━━\u001b[0m\u001b[37m\u001b[0m \u001b[1m12s\u001b[0m 971ms/step - accuracy: 0.7251 - loss: 0.5544 - val_accuracy: 0.6693 - val_loss: 0.6109\n",
      "Epoch 8/20\n",
      "\u001b[1m12/12\u001b[0m \u001b[32m━━━━━━━━━━━━━━━━━━━━\u001b[0m\u001b[37m\u001b[0m \u001b[1m13s\u001b[0m 1s/step - accuracy: 0.7289 - loss: 0.5916 - val_accuracy: 0.7031 - val_loss: 0.5568\n",
      "Epoch 9/20\n",
      "\u001b[1m12/12\u001b[0m \u001b[32m━━━━━━━━━━━━━━━━━━━━\u001b[0m\u001b[37m\u001b[0m \u001b[1m11s\u001b[0m 919ms/step - accuracy: 0.7264 - loss: 0.5268 - val_accuracy: 0.7240 - val_loss: 0.5208\n",
      "Epoch 10/20\n",
      "\u001b[1m12/12\u001b[0m \u001b[32m━━━━━━━━━━━━━━━━━━━━\u001b[0m\u001b[37m\u001b[0m \u001b[1m11s\u001b[0m 919ms/step - accuracy: 0.7685 - loss: 0.5070 - val_accuracy: 0.7161 - val_loss: 0.5332\n",
      "Epoch 11/20\n",
      "\u001b[1m12/12\u001b[0m \u001b[32m━━━━━━━━━━━━━━━━━━━━\u001b[0m\u001b[37m\u001b[0m \u001b[1m11s\u001b[0m 908ms/step - accuracy: 0.7717 - loss: 0.4722 - val_accuracy: 0.7474 - val_loss: 0.4746\n",
      "Epoch 12/20\n",
      "\u001b[1m12/12\u001b[0m \u001b[32m━━━━━━━━━━━━━━━━━━━━\u001b[0m\u001b[37m\u001b[0m \u001b[1m12s\u001b[0m 996ms/step - accuracy: 0.7983 - loss: 0.4374 - val_accuracy: 0.7995 - val_loss: 0.4379\n",
      "Epoch 13/20\n",
      "\u001b[1m12/12\u001b[0m \u001b[32m━━━━━━━━━━━━━━━━━━━━\u001b[0m\u001b[37m\u001b[0m \u001b[1m12s\u001b[0m 992ms/step - accuracy: 0.8252 - loss: 0.3991 - val_accuracy: 0.8229 - val_loss: 0.3970\n",
      "Epoch 14/20\n",
      "\u001b[1m12/12\u001b[0m \u001b[32m━━━━━━━━━━━━━━━━━━━━\u001b[0m\u001b[37m\u001b[0m \u001b[1m12s\u001b[0m 976ms/step - accuracy: 0.8659 - loss: 0.3355 - val_accuracy: 0.8099 - val_loss: 0.4210\n",
      "Epoch 15/20\n",
      "\u001b[1m12/12\u001b[0m \u001b[32m━━━━━━━━━━━━━━━━━━━━\u001b[0m\u001b[37m\u001b[0m \u001b[1m13s\u001b[0m 1s/step - accuracy: 0.8541 - loss: 0.3602 - val_accuracy: 0.8698 - val_loss: 0.3000\n",
      "Epoch 16/20\n",
      "\u001b[1m12/12\u001b[0m \u001b[32m━━━━━━━━━━━━━━━━━━━━\u001b[0m\u001b[37m\u001b[0m \u001b[1m12s\u001b[0m 1s/step - accuracy: 0.8805 - loss: 0.2815 - val_accuracy: 0.8672 - val_loss: 0.3138\n",
      "Epoch 17/20\n",
      "\u001b[1m12/12\u001b[0m \u001b[32m━━━━━━━━━━━━━━━━━━━━\u001b[0m\u001b[37m\u001b[0m \u001b[1m13s\u001b[0m 1s/step - accuracy: 0.9195 - loss: 0.2284 - val_accuracy: 0.8932 - val_loss: 0.2464\n",
      "Epoch 18/20\n",
      "\u001b[1m12/12\u001b[0m \u001b[32m━━━━━━━━━━━━━━━━━━━━\u001b[0m\u001b[37m\u001b[0m \u001b[1m12s\u001b[0m 1s/step - accuracy: 0.9318 - loss: 0.1887 - val_accuracy: 0.9245 - val_loss: 0.2171\n",
      "Epoch 19/20\n",
      "\u001b[1m12/12\u001b[0m \u001b[32m━━━━━━━━━━━━━━━━━━━━\u001b[0m\u001b[37m\u001b[0m \u001b[1m14s\u001b[0m 1s/step - accuracy: 0.9273 - loss: 0.2127 - val_accuracy: 0.9219 - val_loss: 0.2352\n",
      "Epoch 20/20\n",
      "\u001b[1m12/12\u001b[0m \u001b[32m━━━━━━━━━━━━━━━━━━━━\u001b[0m\u001b[37m\u001b[0m \u001b[1m13s\u001b[0m 1s/step - accuracy: 0.9433 - loss: 0.1468 - val_accuracy: 0.9062 - val_loss: 0.2400\n"
     ]
    }
   ],
   "source": [
    "hist = model.fit(train, epochs = 20, validation_data = val, callbacks=[tensorboard_callback])"
   ]
  },
  {
   "cell_type": "code",
   "execution_count": 20,
   "metadata": {},
   "outputs": [
    {
     "data": {
      "text/plain": [
       "{'accuracy': [0.5026041865348816,\n",
       "  0.4869791567325592,\n",
       "  0.58984375,\n",
       "  0.6484375,\n",
       "  0.7063801884651184,\n",
       "  0.7109375,\n",
       "  0.7044270634651184,\n",
       "  0.7180989384651184,\n",
       "  0.740234375,\n",
       "  0.76953125,\n",
       "  0.771484375,\n",
       "  0.7962239384651184,\n",
       "  0.8274739384651184,\n",
       "  0.8541666865348816,\n",
       "  0.8541666865348816,\n",
       "  0.8802083134651184,\n",
       "  0.916015625,\n",
       "  0.935546875,\n",
       "  0.9283854365348816,\n",
       "  0.9440104365348816],\n",
       " 'loss': [0.9344266057014465,\n",
       "  0.6947786211967468,\n",
       "  0.683142364025116,\n",
       "  0.6417720913887024,\n",
       "  0.5856781601905823,\n",
       "  0.5706165432929993,\n",
       "  0.5830263495445251,\n",
       "  0.5815765261650085,\n",
       "  0.522808313369751,\n",
       "  0.5007078051567078,\n",
       "  0.47157201170921326,\n",
       "  0.4339950382709503,\n",
       "  0.39466604590415955,\n",
       "  0.3513980209827423,\n",
       "  0.34335681796073914,\n",
       "  0.2827422320842743,\n",
       "  0.23589015007019043,\n",
       "  0.17283906042575836,\n",
       "  0.21171455085277557,\n",
       "  0.14877676963806152],\n",
       " 'val_accuracy': [0.5,\n",
       "  0.5286458134651184,\n",
       "  0.4609375,\n",
       "  0.6614583134651184,\n",
       "  0.7161458134651184,\n",
       "  0.7057291865348816,\n",
       "  0.6692708134651184,\n",
       "  0.703125,\n",
       "  0.7239583134651184,\n",
       "  0.7161458134651184,\n",
       "  0.7473958134651184,\n",
       "  0.7994791865348816,\n",
       "  0.8229166865348816,\n",
       "  0.8098958134651184,\n",
       "  0.8697916865348816,\n",
       "  0.8671875,\n",
       "  0.8932291865348816,\n",
       "  0.9244791865348816,\n",
       "  0.921875,\n",
       "  0.90625],\n",
       " 'val_loss': [0.6982507705688477,\n",
       "  0.6901902556419373,\n",
       "  0.7192475199699402,\n",
       "  0.6196085810661316,\n",
       "  0.6381294131278992,\n",
       "  0.5623131394386292,\n",
       "  0.610861599445343,\n",
       "  0.5567895174026489,\n",
       "  0.520832896232605,\n",
       "  0.5331990122795105,\n",
       "  0.4746123254299164,\n",
       "  0.43793371319770813,\n",
       "  0.3969961702823639,\n",
       "  0.42102324962615967,\n",
       "  0.30000337958335876,\n",
       "  0.3137599527835846,\n",
       "  0.2463928461074829,\n",
       "  0.21712398529052734,\n",
       "  0.23516006767749786,\n",
       "  0.2399718314409256]}"
      ]
     },
     "execution_count": 20,
     "metadata": {},
     "output_type": "execute_result"
    }
   ],
   "source": [
    "hist.history"
   ]
  },
  {
   "cell_type": "markdown",
   "metadata": {},
   "source": [
    "Plot Performance"
   ]
  },
  {
   "cell_type": "code",
   "execution_count": 21,
   "metadata": {},
   "outputs": [
    {
     "data": {
      "text/plain": [
       "<function matplotlib.pyplot.show(close=None, block=None)>"
      ]
     },
     "execution_count": 21,
     "metadata": {},
     "output_type": "execute_result"
    },
    {
     "data": {
      "image/png": "[encoded data removed]",
      "text/plain": [
       "<Figure size 640x480 with 1 Axes>"
      ]
     },
     "metadata": {},
     "output_type": "display_data"
    }
   ],
   "source": [
    "fig = plt.figure()\n",
    "plt.plot(hist.history['loss'], color='blue', label='loss')\n",
    "plt.plot(hist.history['val_loss'], color='orange', label='val_loss')\n",
    "fig.suptitle('Loss', fontsize=20)\n",
    "plt.show"
   ]
  },
  {
   "cell_type": "code",
   "execution_count": 22,
   "metadata": {},
   "outputs": [
    {
     "data": {
      "image/png": "[encoded data removed]",
      "text/plain": [
       "<Figure size 640x480 with 1 Axes>"
      ]
     },
     "metadata": {},
     "output_type": "display_data"
    }
   ],
   "source": [
    "fig = plt.figure()\n",
    "plt.plot(hist.history['accuracy'], color='blue', label='accuracy')\n",
    "plt.plot(hist.history['val_accuracy'], color='orange', label='accuracy')\n",
    "fig.suptitle('Accuracy', fontsize=20)\n",
    "plt.show()"
   ]
  },
  {
   "cell_type": "markdown",
   "metadata": {},
   "source": [
    "Performance Evaluation"
   ]
  },
  {
   "cell_type": "code",
   "execution_count": 23,
   "metadata": {},
   "outputs": [],
   "source": [
    "from tensorflow.keras.metrics import Precision, Recall, BinaryAccuracy"
   ]
  },
  {
   "cell_type": "code",
   "execution_count": 24,
   "metadata": {},
   "outputs": [],
   "source": [
    "precision = Precision()\n",
    "recall = Recall()\n",
    "Baccuracy = BinaryAccuracy()"
   ]
  },
  {
   "cell_type": "code",
   "execution_count": 25,
   "metadata": {},
   "outputs": [
    {
     "data": {
      "text/plain": [
       "6"
      ]
     },
     "execution_count": 25,
     "metadata": {},
     "output_type": "execute_result"
    }
   ],
   "source": [
    "len(test)"
   ]
  },
  {
   "cell_type": "code",
   "execution_count": 26,
   "metadata": {},
   "outputs": [
    {
     "name": "stdout",
     "output_type": "stream",
     "text": [
      "\u001b[1m4/4\u001b[0m \u001b[32m━━━━━━━━━━━━━━━━━━━━\u001b[0m\u001b[37m\u001b[0m \u001b[1m0s\u001b[0m 58ms/step\n",
      "\u001b[1m4/4\u001b[0m \u001b[32m━━━━━━━━━━━━━━━━━━━━\u001b[0m\u001b[37m\u001b[0m \u001b[1m0s\u001b[0m 58ms/step\n",
      "\u001b[1m4/4\u001b[0m \u001b[32m━━━━━━━━━━━━━━━━━━━━\u001b[0m\u001b[37m\u001b[0m \u001b[1m0s\u001b[0m 55ms/step\n",
      "\u001b[1m4/4\u001b[0m \u001b[32m━━━━━━━━━━━━━━━━━━━━\u001b[0m\u001b[37m\u001b[0m \u001b[1m0s\u001b[0m 50ms/step\n",
      "\u001b[1m4/4\u001b[0m \u001b[32m━━━━━━━━━━━━━━━━━━━━\u001b[0m\u001b[37m\u001b[0m \u001b[1m0s\u001b[0m 63ms/step\n",
      "\u001b[1m3/3\u001b[0m \u001b[32m━━━━━━━━━━━━━━━━━━━━\u001b[0m\u001b[37m\u001b[0m \u001b[1m0s\u001b[0m 89ms/step\n"
     ]
    }
   ],
   "source": [
    "for batch in test.as_numpy_iterator():\n",
    "    X,y = batch\n",
    "    yhat = model.predict(X)\n",
    "    precision.update_state(y, yhat)\n",
    "    recall.update_state(y, yhat)\n",
    "    Baccuracy.update_state(y, yhat)"
   ]
  },
  {
   "cell_type": "code",
   "execution_count": 27,
   "metadata": {},
   "outputs": [
    {
     "name": "stdout",
     "output_type": "stream",
     "text": [
      "Precision:  0.9556962\n",
      "Recall:  0.88046646\n",
      "Accuracy:  0.9236111\n"
     ]
    }
   ],
   "source": [
    "print(\"Precision: \", precision.result().numpy())\n",
    "print(\"Recall: \", recall.result().numpy())\n",
    "print(\"Accuracy: \", Baccuracy.result().numpy())"
   ]
  },
  {
   "cell_type": "markdown",
   "metadata": {},
   "source": [
    "Saving model"
   ]
  },
  {
   "cell_type": "code",
   "execution_count": 28,
   "metadata": {},
   "outputs": [],
   "source": [
    "model.save(os.path.join('models', 'forgeryclassifier.keras'))"
   ]
  },
  {
   "cell_type": "code",
   "execution_count": 78,
   "metadata": {},
   "outputs": [],
   "source": [
    "path = \"Files/val_data\"\n",
    "val.save(path)"
   ]
  },
  {
   "cell_type": "markdown",
   "metadata": {},
   "source": [
    "Using the Model"
   ]
  },
  {
   "cell_type": "code",
   "execution_count": 29,
   "metadata": {},
   "outputs": [],
   "source": [
    "from tensorflow.keras.models import load_model\n",
    "import os"
   ]
  },
  {
   "cell_type": "code",
   "execution_count": 30,
   "metadata": {},
   "outputs": [],
   "source": [
    "loaded_model = load_model(os.path.join('models', 'forgeryclassifier.keras'))"
   ]
  },
  {
   "cell_type": "code",
   "execution_count": 31,
   "metadata": {},
   "outputs": [
    {
     "name": "stdout",
     "output_type": "stream",
     "text": [
      "\u001b[1m1/1\u001b[0m \u001b[32m━━━━━━━━━━━━━━━━━━━━\u001b[0m\u001b[37m\u001b[0m \u001b[1m0s\u001b[0m 139ms/step\n"
     ]
    },
    {
     "data": {
      "text/plain": [
       "array([[0.3458477]], dtype=float32)"
      ]
     },
     "execution_count": 31,
     "metadata": {},
     "output_type": "execute_result"
    }
   ],
   "source": [
    "forged_example = cv2.imread('forgeries_1_14.png')\n",
    "forged_example = tf.image.resize(forged_example, (256, 256))\n",
    "loaded_model.predict(np.expand_dims(forged_example/255, 0))"
   ]
  },
  {
   "cell_type": "code",
   "execution_count": 32,
   "metadata": {},
   "outputs": [
    {
     "name": "stdout",
     "output_type": "stream",
     "text": [
      "\u001b[1m1/1\u001b[0m \u001b[32m━━━━━━━━━━━━━━━━━━━━\u001b[0m\u001b[37m\u001b[0m \u001b[1m0s\u001b[0m 74ms/step\n"
     ]
    },
    {
     "data": {
      "text/plain": [
       "array([[0.89267755]], dtype=float32)"
      ]
     },
     "execution_count": 32,
     "metadata": {},
     "output_type": "execute_result"
    }
   ],
   "source": [
    "original_example = cv2.imread('original_3_6.png')\n",
    "original_example = tf.image.resize(original_example, (256, 256))\n",
    "loaded_model.predict(np.expand_dims(original_example/255, 0))"
   ]
  },
  {
   "cell_type": "markdown",
   "metadata": {},
   "source": [
    "Testing against NST Forgeries"
   ]
  },
  {
   "cell_type": "code",
   "execution_count": 80,
   "metadata": {},
   "outputs": [],
   "source": [
    "import tensorflow as tf\n",
    "from tensorflow.keras.metrics import Precision, Recall, BinaryAccuracy\n",
    "import os"
   ]
  },
  {
   "cell_type": "code",
   "execution_count": 81,
   "metadata": {},
   "outputs": [],
   "source": [
    "path = \"Files/forged_data\"\n",
    "\n",
    "NSTdata = tf.data.Dataset.load(path)"
   ]
  },
  {
   "cell_type": "code",
   "execution_count": 82,
   "metadata": {},
   "outputs": [],
   "source": [
    "precision = Precision()\n",
    "recall = Recall()\n",
    "Baccuracy = BinaryAccuracy()"
   ]
  },
  {
   "cell_type": "code",
   "execution_count": 83,
   "metadata": {},
   "outputs": [
    {
     "name": "stderr",
     "output_type": "stream",
     "text": [
      "c:\\Users\\Satgu\\Documents\\VS Code\\2nd year\\Forgery Classifier\\Lib\\site-packages\\keras\\src\\models\\functional.py:237: UserWarning: The structure of `inputs` doesn't match the expected structure.\n",
      "Expected: keras_tensor\n",
      "Received: inputs=('Tensor(shape=(32, 256, 256, 3))', 'Tensor(shape=(32,))')\n",
      "  warnings.warn(msg)\n"
     ]
    },
    {
     "name": "stdout",
     "output_type": "stream",
     "text": [
      "\u001b[1m4/4\u001b[0m \u001b[32m━━━━━━━━━━━━━━━━━━━━\u001b[0m\u001b[37m\u001b[0m \u001b[1m2s\u001b[0m 74ms/step\n",
      "[[1.1383074e-03]\n",
      " [9.6292734e-01]\n",
      " [9.8902684e-01]\n",
      " [9.9957395e-01]\n",
      " [2.3402399e-01]\n",
      " [2.2101676e-02]\n",
      " [2.0941695e-02]\n",
      " [3.4207723e-01]\n",
      " [1.8843831e-04]\n",
      " [8.6371261e-01]\n",
      " [9.6653646e-01]\n",
      " [1.8178726e-02]\n",
      " [9.5229518e-01]\n",
      " [7.9504745e-03]\n",
      " [8.4056979e-01]\n",
      " [4.0202285e-03]\n",
      " [7.0006669e-02]\n",
      " [5.8803945e-03]\n",
      " [5.6626450e-02]\n",
      " [2.4812855e-01]\n",
      " [1.7997991e-01]\n",
      " [2.1352140e-02]\n",
      " [1.8645929e-02]\n",
      " [7.6140559e-01]\n",
      " [4.9986417e-04]\n",
      " [1.6925566e-02]\n",
      " [3.4078461e-01]\n",
      " [1.8437605e-01]\n",
      " [5.1652366e-01]\n",
      " [9.9946958e-01]\n",
      " [1.1732873e-01]\n",
      " [1.9782159e-02]\n",
      " [9.4537681e-01]\n",
      " [2.0131423e-05]\n",
      " [8.2138516e-02]\n",
      " [2.9097462e-01]\n",
      " [5.0481834e-02]\n",
      " [9.4168341e-01]\n",
      " [1.0000000e+00]\n",
      " [2.8459129e-01]\n",
      " [8.2143955e-02]\n",
      " [4.5664185e-03]\n",
      " [9.7386962e-01]\n",
      " [4.7401145e-02]\n",
      " [6.6811596e-03]\n",
      " [6.3266456e-03]\n",
      " [3.2104975e-01]\n",
      " [9.9947947e-01]\n",
      " [9.9629980e-01]\n",
      " [2.3853017e-01]\n",
      " [2.7871154e-02]\n",
      " [9.6376979e-01]\n",
      " [5.5426371e-01]\n",
      " [2.2466682e-01]\n",
      " [1.9623579e-01]\n",
      " [9.9602538e-01]\n",
      " [2.0174950e-01]\n",
      " [9.8266584e-01]\n",
      " [2.0392880e-01]\n",
      " [9.2603795e-02]\n",
      " [2.1167774e-02]\n",
      " [2.5846928e-04]\n",
      " [1.3649418e-02]\n",
      " [9.8556960e-01]\n",
      " [5.3579036e-02]\n",
      " [2.0849397e-02]\n",
      " [5.9604160e-02]\n",
      " [5.9735224e-02]\n",
      " [8.3345064e-04]\n",
      " [8.9927465e-01]\n",
      " [4.4886810e-01]\n",
      " [9.3691297e-02]\n",
      " [9.9259341e-01]\n",
      " [7.7438252e-03]\n",
      " [4.6268076e-04]\n",
      " [9.9999905e-01]\n",
      " [1.3142357e-04]\n",
      " [9.9491483e-01]\n",
      " [1.6730146e-01]\n",
      " [1.6230874e-06]\n",
      " [1.4597216e-02]\n",
      " [9.6002758e-01]\n",
      " [5.5102432e-01]\n",
      " [7.0152879e-01]\n",
      " [4.2366315e-04]\n",
      " [4.0692929e-03]\n",
      " [2.0101050e-02]\n",
      " [1.4709227e-01]\n",
      " [9.8895383e-01]\n",
      " [3.8483357e-01]\n",
      " [3.4295071e-02]\n",
      " [6.4807451e-01]\n",
      " [2.0358917e-01]\n",
      " [9.8186773e-01]\n",
      " [4.3743651e-02]\n",
      " [5.1236498e-01]\n",
      " [3.3991235e-01]\n",
      " [5.0873797e-02]\n",
      " [1.0130721e-01]\n",
      " [3.7945014e-01]\n",
      " [5.2936547e-02]\n",
      " [1.5057647e-01]\n",
      " [6.8079336e-03]\n",
      " [1.0339847e-04]\n",
      " [9.8586494e-01]\n",
      " [4.5152223e-03]\n",
      " [7.8059804e-01]\n",
      " [9.2286450e-01]\n",
      " [9.8889238e-01]\n",
      " [9.6415663e-01]\n",
      " [5.4284086e-05]\n",
      " [2.7710968e-01]\n",
      " [1.2698126e-04]\n",
      " [9.9904740e-01]\n",
      " [1.3040230e-03]\n",
      " [4.5585548e-05]\n",
      " [9.5924354e-01]\n",
      " [3.7721198e-02]\n",
      " [6.8571424e-01]\n",
      " [4.2467476e-03]\n",
      " [1.1557711e-01]\n",
      " [9.3100667e-01]\n",
      " [4.1701970e-01]\n",
      " [8.0770051e-01]\n",
      " [6.9299865e-01]\n",
      " [3.0795094e-05]\n",
      " [9.7025406e-01]\n",
      " [9.2300367e-01]]\n",
      "\u001b[1m4/4\u001b[0m \u001b[32m━━━━━━━━━━━━━━━━━━━━\u001b[0m\u001b[37m\u001b[0m \u001b[1m0s\u001b[0m 72ms/step\n",
      "[[3.35586160e-01]\n",
      " [9.18122411e-01]\n",
      " [9.49980199e-01]\n",
      " [2.31492613e-02]\n",
      " [8.39267075e-01]\n",
      " [9.99574959e-01]\n",
      " [2.19966378e-02]\n",
      " [9.95003402e-01]\n",
      " [5.95315406e-03]\n",
      " [9.95351136e-01]\n",
      " [9.78809074e-02]\n",
      " [9.27649379e-01]\n",
      " [1.38688115e-02]\n",
      " [9.98213470e-01]\n",
      " [3.60551775e-02]\n",
      " [8.32053740e-03]\n",
      " [4.64186281e-01]\n",
      " [1.18329383e-01]\n",
      " [5.93255647e-02]\n",
      " [2.47771189e-01]\n",
      " [1.22218654e-02]\n",
      " [9.80346739e-01]\n",
      " [7.93614626e-01]\n",
      " [4.56513584e-01]\n",
      " [1.18664347e-01]\n",
      " [9.56690192e-01]\n",
      " [9.99656558e-01]\n",
      " [9.99941170e-01]\n",
      " [1.00000000e+00]\n",
      " [9.94785786e-01]\n",
      " [2.88387179e-01]\n",
      " [9.69315530e-04]\n",
      " [9.60648239e-01]\n",
      " [8.06171656e-01]\n",
      " [1.09668098e-01]\n",
      " [9.63680625e-01]\n",
      " [9.99140203e-01]\n",
      " [8.15538824e-01]\n",
      " [9.51962709e-01]\n",
      " [4.65239614e-01]\n",
      " [9.65020418e-01]\n",
      " [1.81140471e-02]\n",
      " [5.27128100e-01]\n",
      " [8.83957028e-01]\n",
      " [5.07720895e-02]\n",
      " [1.64177325e-02]\n",
      " [9.09285963e-01]\n",
      " [7.10091293e-01]\n",
      " [9.79258418e-01]\n",
      " [9.72489715e-01]\n",
      " [8.94512892e-01]\n",
      " [6.44766763e-02]\n",
      " [7.84739405e-02]\n",
      " [9.76196706e-01]\n",
      " [1.08741246e-01]\n",
      " [6.12861617e-03]\n",
      " [9.98371482e-01]\n",
      " [2.81304065e-02]\n",
      " [9.06520426e-01]\n",
      " [1.01365618e-01]\n",
      " [3.41015197e-02]\n",
      " [1.77064836e-02]\n",
      " [9.94800866e-01]\n",
      " [2.69818516e-03]\n",
      " [9.62999929e-03]\n",
      " [7.82261729e-01]\n",
      " [1.15501015e-02]\n",
      " [3.59848636e-05]\n",
      " [1.50983604e-02]\n",
      " [1.76901016e-02]\n",
      " [7.62365222e-01]\n",
      " [8.07254296e-03]\n",
      " [9.91021633e-01]\n",
      " [1.55614383e-04]\n",
      " [1.03904262e-01]\n",
      " [7.29705095e-01]\n",
      " [8.07848036e-01]\n",
      " [2.86918189e-02]\n",
      " [3.55623551e-02]\n",
      " [2.27954611e-02]\n",
      " [1.98974158e-04]\n",
      " [8.78616035e-01]\n",
      " [7.06326842e-01]\n",
      " [6.16045110e-02]\n",
      " [7.08028907e-04]\n",
      " [4.97497713e-05]\n",
      " [4.36093062e-01]\n",
      " [9.69222263e-02]\n",
      " [6.59359172e-02]\n",
      " [9.97446001e-01]\n",
      " [4.22931537e-02]\n",
      " [7.90247868e-05]\n",
      " [6.51652694e-01]\n",
      " [2.97589656e-02]\n",
      " [9.83055890e-01]\n",
      " [9.62760448e-01]\n",
      " [3.45847756e-01]\n",
      " [9.99753177e-01]\n",
      " [3.31934378e-03]\n",
      " [8.82134974e-01]\n",
      " [9.88769591e-01]\n",
      " [9.96344566e-01]\n",
      " [2.00107589e-01]\n",
      " [8.07999074e-03]\n",
      " [1.23882515e-03]\n",
      " [9.86289322e-01]\n",
      " [7.19657719e-01]\n",
      " [9.88719940e-01]\n",
      " [1.01643847e-02]\n",
      " [7.56238028e-02]\n",
      " [9.72248673e-01]\n",
      " [3.19330655e-02]\n",
      " [1.28050605e-02]\n",
      " [6.10834248e-02]\n",
      " [9.62957025e-01]\n",
      " [6.31901205e-01]\n",
      " [3.32774851e-03]\n",
      " [3.09160911e-03]\n",
      " [1.41056925e-02]\n",
      " [4.30074870e-04]\n",
      " [7.51130939e-01]\n",
      " [3.65682412e-03]\n",
      " [6.41123683e-04]\n",
      " [3.47204715e-01]\n",
      " [1.20117359e-01]\n",
      " [2.02438980e-02]\n",
      " [9.84864295e-01]\n",
      " [9.99987781e-01]]\n",
      "\u001b[1m4/4\u001b[0m \u001b[32m━━━━━━━━━━━━━━━━━━━━\u001b[0m\u001b[37m\u001b[0m \u001b[1m0s\u001b[0m 81ms/step\n",
      "[[4.23221551e-02]\n",
      " [9.99743044e-01]\n",
      " [5.94631245e-04]\n",
      " [4.98986803e-04]\n",
      " [8.88665855e-01]\n",
      " [5.03917225e-02]\n",
      " [1.00000000e+00]\n",
      " [3.89003265e-03]\n",
      " [9.70922530e-01]\n",
      " [5.44679284e-01]\n",
      " [9.15461302e-01]\n",
      " [9.99510050e-01]\n",
      " [8.55733216e-01]\n",
      " [1.86196238e-01]\n",
      " [2.45719496e-02]\n",
      " [7.67539561e-01]\n",
      " [3.06683421e-01]\n",
      " [9.83885705e-01]\n",
      " [9.97824907e-01]\n",
      " [3.06179225e-02]\n",
      " [3.47780697e-02]\n",
      " [9.95984852e-01]\n",
      " [9.99714434e-01]\n",
      " [2.97654346e-02]\n",
      " [1.44272605e-02]\n",
      " [2.20726311e-01]\n",
      " [4.05044466e-01]\n",
      " [9.99302208e-01]\n",
      " [1.66261256e-01]\n",
      " [7.88878556e-03]\n",
      " [4.45824444e-01]\n",
      " [9.98066127e-01]\n",
      " [8.81591141e-01]\n",
      " [9.12433565e-01]\n",
      " [8.99850070e-01]\n",
      " [9.94180799e-01]\n",
      " [9.38292980e-01]\n",
      " [9.97955382e-01]\n",
      " [1.29950522e-02]\n",
      " [1.90734968e-03]\n",
      " [2.91719973e-01]\n",
      " [5.19673228e-01]\n",
      " [2.60250896e-01]\n",
      " [3.83667284e-05]\n",
      " [7.58000016e-01]\n",
      " [4.84870106e-01]\n",
      " [9.80757952e-01]\n",
      " [9.51749504e-01]\n",
      " [2.40230467e-02]\n",
      " [1.23747937e-01]\n",
      " [2.27529824e-01]\n",
      " [3.63408588e-02]\n",
      " [8.79077673e-01]\n",
      " [1.52636057e-05]\n",
      " [9.77255940e-01]\n",
      " [1.58637296e-02]\n",
      " [8.59090984e-01]\n",
      " [9.99437034e-01]\n",
      " [4.28291142e-01]\n",
      " [3.46936136e-01]\n",
      " [4.21219677e-01]\n",
      " [9.62914348e-01]\n",
      " [9.14223373e-01]\n",
      " [2.77639687e-04]\n",
      " [8.25690985e-01]\n",
      " [4.92555827e-01]\n",
      " [9.96663235e-04]\n",
      " [9.78017628e-01]\n",
      " [9.22761917e-01]\n",
      " [5.19656390e-03]\n",
      " [9.74078536e-01]\n",
      " [7.96113312e-01]\n",
      " [5.34845814e-02]\n",
      " [9.91947293e-01]\n",
      " [5.91911435e-01]\n",
      " [9.73751485e-01]\n",
      " [8.82366896e-01]\n",
      " [7.36811221e-01]\n",
      " [9.62878540e-02]\n",
      " [9.79043126e-01]\n",
      " [7.50980020e-01]\n",
      " [9.99358177e-01]\n",
      " [3.10749130e-07]\n",
      " [9.99648213e-01]\n",
      " [7.45392382e-01]\n",
      " [9.72051442e-01]\n",
      " [1.60722837e-01]\n",
      " [1.80059858e-02]\n",
      " [1.00000000e+00]\n",
      " [9.98398840e-01]\n",
      " [5.28560996e-01]\n",
      " [8.64931964e-04]\n",
      " [9.30860221e-01]\n",
      " [4.14287448e-01]\n",
      " [4.61104624e-02]\n",
      " [4.28236052e-02]\n",
      " [3.59132374e-03]\n",
      " [1.91613939e-02]\n",
      " [9.00549829e-01]\n",
      " [1.51156180e-03]\n",
      " [1.39266588e-02]\n",
      " [9.89016771e-01]\n",
      " [4.30816002e-02]\n",
      " [3.42351682e-02]\n",
      " [9.21091298e-04]\n",
      " [9.69821632e-01]\n",
      " [8.00595880e-01]\n",
      " [3.02293062e-01]\n",
      " [9.46531773e-01]\n",
      " [9.97669697e-01]\n",
      " [9.85142827e-01]\n",
      " [1.43005396e-03]\n",
      " [9.91346598e-01]\n",
      " [3.63061614e-02]\n",
      " [9.47638750e-01]\n",
      " [4.47068773e-02]\n",
      " [9.94288921e-01]\n",
      " [6.63365424e-01]\n",
      " [9.99486625e-01]\n",
      " [9.28298891e-01]\n",
      " [9.99009311e-01]\n",
      " [2.80645508e-02]\n",
      " [5.80015242e-01]\n",
      " [2.29549464e-02]\n",
      " [3.55067283e-01]\n",
      " [6.19335890e-01]\n",
      " [5.30021787e-01]\n",
      " [9.76666152e-01]]\n"
     ]
    }
   ],
   "source": [
    "\n",
    "for X in NSTdata:\n",
    "    y = 1\n",
    "    yhat = model.predict(X)\n",
    "    print(yhat)\n",
    "    precision.update_state(y, yhat)\n",
    "    recall.update_state(y, yhat)\n",
    "    Baccuracy.update_state(y, yhat)"
   ]
  },
  {
   "cell_type": "code",
   "execution_count": 84,
   "metadata": {},
   "outputs": [
    {
     "name": "stdout",
     "output_type": "stream",
     "text": [
      "Precision:  1.0\n",
      "Recall:  0.4453125\n",
      "Accuracy:  0.4453125\n"
     ]
    }
   ],
   "source": [
    "print(\"Precision: \", precision.result().numpy())\n",
    "print(\"Recall: \", recall.result().numpy())\n",
    "print(\"Accuracy: \", Baccuracy.result().numpy())"
   ]
  }
 ],
 "metadata": {
  "kernelspec": {
   "display_name": "Forgery Classifier",
   "language": "python",
   "name": "python3"
  },
  "language_info": {
   "codemirror_mode": {
    "name": "ipython",
    "version": 3
   },
   "file_extension": ".py",
   "mimetype": "text/x-python",
   "name": "python",
   "nbconvert_exporter": "python",
   "pygments_lexer": "ipython3",
   "version": "3.12.9"
  }
 },
 "nbformat": 4,
 "nbformat_minor": 2
}
